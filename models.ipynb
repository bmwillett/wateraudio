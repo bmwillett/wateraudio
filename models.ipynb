{
 "cells": [
  {
   "cell_type": "code",
   "execution_count": 128,
   "metadata": {},
   "outputs": [
    {
     "name": "stdout",
     "output_type": "stream",
     "text": [
      "loading files...\n",
      "loaded:\n",
      "for label=cold, 22 training clips and 7 test clips with total length 869 seconds\n",
      "for label=hot, 22 training clips and 7 test clips with total length 871 seconds\n"
     ]
    }
   ],
   "source": [
    "%run 'init.py'\n",
    "all_clips=load_files()\n",
    "\n",
    "maxsd=5\n",
    "maxsd_filter = lambda sample : np.max(sample)/np.std(sample)<maxsd"
   ]
  },
  {
   "cell_type": "markdown",
   "metadata": {},
   "source": [
    "*****************\n",
    "<font size=\"6\">Logistic Regression</font>"
   ]
  },
  {
   "cell_type": "markdown",
   "metadata": {},
   "source": [
    "*****************\n",
    "<font size=\"4\">using raw wav data</font>"
   ]
  },
  {
   "cell_type": "code",
   "execution_count": 232,
   "metadata": {},
   "outputs": [
    {
     "name": "stdout",
     "output_type": "stream",
     "text": [
      "test results:\n"
     ]
    },
    {
     "data": {
      "text/plain": [
       "0.5178571428571429"
      ]
     },
     "execution_count": 232,
     "metadata": {},
     "output_type": "execute_result"
    }
   ],
   "source": [
    "sample_duration=0.5\n",
    "sr=default_sr\n",
    "sample_size=int(sr*sample_duration)\n",
    "sample_size_log_raw=sample_size\n",
    "\n",
    "train_filter=test_filter=no_filter\n",
    "\n",
    "train_clips=[]\n",
    "for label in labels:\n",
    "    train_clips+=[clip for clip in all_clips[label] if (clip.sr==sr and clip.kind=='train' and clip.size>=sample_size)]\n",
    "\n",
    "n_samples=sum([int(clip.size/sample_size) for clip in train_clips])\n",
    "X=np.zeros((n_samples,sample_size))\n",
    "y=np.zeros(n_samples)\n",
    "params_log_raw=None\n",
    "\n",
    "def getdata_log_raw(sample,params):\n",
    "    return sample\n",
    "\n",
    "for i,(sample,_,label) in enumerate(sample_generator(train_clips,sample_duration,sample_filter=train_filter)):\n",
    "    X[i,:]=getdata_log_raw(sample,params_log_raw)\n",
    "    y[i]=label2ind[label]\n",
    "\n",
    "clf_log_raw = LogisticRegression(random_state=0).fit(X, y)\n",
    "\n",
    "clf_log_raw.fit(X, y)\n",
    "\n",
    "test_clips=[]\n",
    "for label in labels:\n",
    "    test_clips+=[clip for clip in all_clips[label] if (clip.sr==sr and clip.kind=='test' and clip.size>=sample_size)]\n",
    "    \n",
    "n_samples=sum([int(clip.size/sample_size) for clip in test_clips])\n",
    "X_test=np.zeros((n_samples,sample_size))\n",
    "y_test=np.zeros(n_samples)\n",
    "\n",
    "for i,(sample,_,label) in enumerate(sample_generator(test_clips,sample_duration,sample_filter=test_filter)):\n",
    "    X_test[i,:]=getdata_log_raw(sample,params_log_raw)\n",
    "    y_test[i]=label2ind[label]\n",
    "\n",
    "print(\"test results:\")\n",
    "clf_log_raw.score(X_test,y_test)"
   ]
  },
  {
   "cell_type": "markdown",
   "metadata": {},
   "source": [
    "*****************\n",
    "<font size=\"4\">using spectrogram data</font>"
   ]
  },
  {
   "cell_type": "code",
   "execution_count": 242,
   "metadata": {},
   "outputs": [
    {
     "name": "stderr",
     "output_type": "stream",
     "text": [
      "/Library/Frameworks/Python.framework/Versions/3.8/lib/python3.8/site-packages/sklearn/linear_model/_logistic.py:938: ConvergenceWarning: lbfgs failed to converge (status=1):\n",
      "STOP: TOTAL NO. of ITERATIONS REACHED LIMIT.\n",
      "\n",
      "Increase the number of iterations (max_iter) or scale the data as shown in:\n",
      "    https://scikit-learn.org/stable/modules/preprocessing.html\n",
      "Please also refer to the documentation for alternative solver options:\n",
      "    https://scikit-learn.org/stable/modules/linear_model.html#logistic-regression\n",
      "  n_iter_i = _check_optimize_result(\n",
      "/Library/Frameworks/Python.framework/Versions/3.8/lib/python3.8/site-packages/sklearn/linear_model/_logistic.py:938: ConvergenceWarning: lbfgs failed to converge (status=1):\n",
      "STOP: TOTAL NO. of ITERATIONS REACHED LIMIT.\n",
      "\n",
      "Increase the number of iterations (max_iter) or scale the data as shown in:\n",
      "    https://scikit-learn.org/stable/modules/preprocessing.html\n",
      "Please also refer to the documentation for alternative solver options:\n",
      "    https://scikit-learn.org/stable/modules/linear_model.html#logistic-regression\n",
      "  n_iter_i = _check_optimize_result(\n"
     ]
    },
    {
     "name": "stdout",
     "output_type": "stream",
     "text": [
      "test results:\n"
     ]
    },
    {
     "data": {
      "text/plain": [
       "0.7952380952380952"
      ]
     },
     "execution_count": 242,
     "metadata": {},
     "output_type": "execute_result"
    }
   ],
   "source": [
    "sample_duration=1\n",
    "sr=default_sr\n",
    "sample_size=int(sr*sample_duration)\n",
    "sample_size_log_spec=sample_size\n",
    "\n",
    "n_fft=256\n",
    "hop_length=128\n",
    "n_freqs=n_fft//2+1\n",
    "\n",
    "train_filter=test_filter=maxsd_filter\n",
    "\n",
    "train_clips=[]\n",
    "for label in labels:\n",
    "    train_clips+=[clip for clip in all_clips[label] if (clip.sr==sr and clip.kind=='train' and clip.size>=sample_size)]\n",
    "\n",
    "n_samples=sum([int(clip.size/sample_size) for clip in train_clips])\n",
    "X=np.zeros((n_samples,n_freqs))\n",
    "y=np.zeros(n_samples)\n",
    "params_log_spec=n_fft,hop_length\n",
    "\n",
    "def getdata_log_spec(sample,params):\n",
    "    n_fft,hop_length=params\n",
    "    return np.sum(np.abs(librosa.stft(sample, n_fft=n_fft,hop_length=hop_length)),axis=1)\n",
    "\n",
    "for i,(sample,_,label) in enumerate(sample_generator(train_clips,sample_duration,sample_filter=train_filter)):\n",
    "    X[i,:]=getdata_log_spec(sample,params_log_spec)\n",
    "    y[i]=label2ind[label]\n",
    "\n",
    "clf_log_spec = LogisticRegression(C=2,random_state=0).fit(X, y)\n",
    "\n",
    "clf_log_spec.fit(X, y)\n",
    "\n",
    "test_clips=[]\n",
    "for label in labels:\n",
    "    test_clips+=[clip for clip in all_clips[label] if (clip.sr==sr and clip.kind=='test' and clip.size>=sample_size)]\n",
    "    \n",
    "n_samples=sum([int(clip.size/sample_size) for clip in test_clips])\n",
    "X_test=np.zeros((n_samples,n_freqs))\n",
    "y_test=np.zeros(n_samples)\n",
    "\n",
    "for i,(sample,_,label) in enumerate(sample_generator(test_clips,sample_duration,sample_filter=test_filter)):\n",
    "    X_test[i,:]=getdata_log_spec(sample,params_log_spec)\n",
    "    y_test[i]=label2ind[label]\n",
    "\n",
    "print(\"test results:\")\n",
    "clf_log_spec.score(X_test,y_test)"
   ]
  },
  {
   "cell_type": "code",
   "execution_count": 243,
   "metadata": {},
   "outputs": [
    {
     "name": "stdout",
     "output_type": "stream",
     "text": [
      "['hot', 'hot', 'cold', 'hot', 'hot', 'hot', 'hot', 'hot', 'hot', 'cold']\n"
     ]
    }
   ],
   "source": [
    "log_spec_predictor=predictor(clf_log_spec,getdata_log_spec,params_log_spec,sample_size_log_spec)\n",
    "\n",
    "# pick 10 random 'cold' samples to test\n",
    "to_test=[sample for sample,_,_ in sample_generator(all_clips['hot'], sample_size_log_spec/default_sr, max_iters=10,random=True)]\n",
    "\n",
    "print(log_spec_predictor.test_samples(to_test))"
   ]
  },
  {
   "cell_type": "markdown",
   "metadata": {},
   "source": [
    "*****************\n",
    "<font size=\"6\">SVM</font>"
   ]
  },
  {
   "cell_type": "markdown",
   "metadata": {},
   "source": [
    "*****************\n",
    "<font size=\"4\">using spectrogram data</font>"
   ]
  },
  {
   "cell_type": "code",
   "execution_count": 244,
   "metadata": {},
   "outputs": [
    {
     "name": "stdout",
     "output_type": "stream",
     "text": [
      "test results:\n"
     ]
    },
    {
     "data": {
      "text/plain": [
       "0.7690476190476191"
      ]
     },
     "execution_count": 244,
     "metadata": {},
     "output_type": "execute_result"
    }
   ],
   "source": [
    "sample_duration=1\n",
    "sr=default_sr\n",
    "sample_size=int(sr*sample_duration)\n",
    "sample_size_svm=sample_size\n",
    "\n",
    "n_fft=256\n",
    "hop_length=128\n",
    "n_freqs=n_fft//2+1\n",
    "\n",
    "train_filter=test_filter=no_filter\n",
    "\n",
    "train_clips=[]\n",
    "for label in labels:\n",
    "    train_clips+=[clip for clip in all_clips[label] if (clip.sr==sr and clip.kind=='train' and clip.size>=sample_size)]\n",
    "\n",
    "n_samples=sum([int(clip.size/sample_size) for clip in train_clips])\n",
    "X=np.zeros((n_samples,n_freqs))\n",
    "y=np.zeros(n_samples)\n",
    "params_svm=n_fft,hop_length\n",
    "\n",
    "def getdata_svm(sample,params):\n",
    "    n_fft,hop_length=params\n",
    "    return np.sum(np.abs(librosa.stft(sample, n_fft=n_fft,hop_length=hop_length)),axis=1)\n",
    "\n",
    "for i,(sample,_,label) in enumerate(sample_generator(train_clips,sample_duration,sample_filter=train_filter)):\n",
    "    X[i,:]=getdata_svm(sample,params_svm)\n",
    "    y[i]=label2ind[label]\n",
    "\n",
    "clf_svm = svm.SVC(C=0.00001,kernel='poly',degree=2,gamma=0.01,tol=1e-4)\n",
    "\n",
    "clf_svm.fit(X, y)\n",
    "\n",
    "test_clips=[]\n",
    "for label in labels:\n",
    "    test_clips+=[clip for clip in all_clips[label] if (clip.sr==sr and clip.kind=='test' and clip.size>=sample_size)]\n",
    "    \n",
    "n_samples=sum([int(clip.size/sample_size) for clip in test_clips])\n",
    "X_test=np.zeros((n_samples,n_freqs))\n",
    "y_test=np.zeros(n_samples)\n",
    "\n",
    "for i,(sample,_,label) in enumerate(sample_generator(test_clips,sample_duration,sample_filter=test_filter)):\n",
    "    X_test[i,:]=getdata_svm(sample,params_svm)\n",
    "    y_test[i]=label2ind[label]\n",
    "\n",
    "print(\"test results:\")\n",
    "clf_svm.score(X_test,y_test)"
   ]
  },
  {
   "cell_type": "code",
   "execution_count": 239,
   "metadata": {},
   "outputs": [
    {
     "data": {
      "text/markdown": [
       "water is currently: <font color='red'>HOT</font>"
      ],
      "text/plain": [
       "<IPython.core.display.Markdown object>"
      ]
     },
     "metadata": {},
     "output_type": "display_data"
    }
   ],
   "source": [
    "svm_predictor=predictor(clf_svm,getdata_svm,params_svm,sample_size_svm)\n",
    "svm_predictor.continuous_record_and_test()"
   ]
  },
  {
   "cell_type": "markdown",
   "metadata": {},
   "source": [
    "*****************\n",
    "<font size=\"6\">CNN on spectrogram</font>\n",
    "\n",
    "-> found some references suggesting, for audio classification, use CNN on mel spectrogram or mel-frequency cepstral coefficients\n",
    "    - https://web.archive.org/web/20110717210107/http://www.wcl.ece.upatras.gr/ganchev/Papers/ganchev17.pdf\n",
    "    - https://towardsdatascience.com/audio-classification-using-fastai-and-on-the-fly-frequency-transforms-4dbe1b540f89\n",
    "    - https://en.wikipedia.org/wiki/Mel-frequency_cepstrum"
   ]
  },
  {
   "cell_type": "code",
   "execution_count": 233,
   "metadata": {
    "scrolled": true
   },
   "outputs": [
    {
     "data": {
      "image/png": "[encoded data removed]",
      "text/plain": [
       "<Figure size 720x720 with 1 Axes>"
      ]
     },
     "metadata": {
      "needs_background": "light"
     },
     "output_type": "display_data"
    }
   ],
   "source": [
    "n_mfcc=20\n",
    "sample_duration=1\n",
    "\n",
    "sr=default_sr\n",
    "sample_size=sample_duration*sr\n",
    "sample_size_cnn=sample_size\n",
    "\n",
    "testsample,_,_=sample_generator(all_clips['cold'],sample_duration,random=True).__next__()\n",
    "#mfcc=librosa.feature.melspectrogram(testsample, sr=sr, n_mfcc=n_mfcc)\n",
    "test_data=librosa.feature.mfcc(testsample, sr=sr, n_mfcc=n_mfcc)\n",
    "\n",
    "(width,height)=test_data.shape\n",
    "plt.figure(figsize=(10,10))\n",
    "librosa.display.specshow(test_data, x_axis='time', y_axis='linear')\n",
    "plt.show()"
   ]
  },
  {
   "cell_type": "code",
   "execution_count": 177,
   "metadata": {},
   "outputs": [
    {
     "name": "stdout",
     "output_type": "stream",
     "text": [
      "getting train data...\n",
      "getting test data...\n",
      "loaded data\n"
     ]
    }
   ],
   "source": [
    "# Also hyperparameters!\n",
    "n_mfcc=20\n",
    "sample_duration=1\n",
    "\n",
    "# generate training samples\n",
    "print(\"getting train data...\")\n",
    "train_clips=[]\n",
    "for label in labels:\n",
    "    train_clips+=[clip for clip in all_clips[label] if (clip.sr==sr and clip.kind=='train' and clip.size>=sample_size)]\n",
    "    \n",
    "n_samples=sum([1 for _,_,_, in sample_generator(train_clips,sample_duration)])\n",
    "n_samples=1000\n",
    "X=np.zeros((n_samples,width,height,1))\n",
    "y=np.zeros((n_samples,num_labels))\n",
    "\n",
    "def getdata_cnn(sample,params):\n",
    "    n_mfcc=params\n",
    "    return np.expand_dims(librosa.feature.mfcc(sample, sr=sr, n_mfcc=n_mfcc),axis=2)\n",
    "\n",
    "params_cnn=n_mfcc\n",
    "\n",
    "ks=lambda c : 'e' in c.name\n",
    "\n",
    "for i,(sample,_,label) in enumerate(sample_generator(train_clips,sample_duration,random=True,max_iters=n_samples,clip_filter=ks)):\n",
    "    X[i,:,:,:]=getdata_cnn(sample,params_cnn)\n",
    "    y[i,label2ind[label]]=1\n",
    "\n",
    "# generate testing samples \n",
    "print(\"getting test data...\")\n",
    "test_clips=[]\n",
    "for label in labels:\n",
    "    test_clips+=[clip for clip in all_clips[label] if (clip.sr==sr and clip.kind=='test' and clip.size>=sample_size)]\n",
    "    \n",
    "\n",
    "n_tests=sum([1 for _,_,_, in sample_generator(test_clips,sample_duration)])\n",
    "n_tests=200\n",
    "X_test=np.zeros((n_tests,width,height,1))\n",
    "y_test=np.zeros((n_tests,num_labels))\n",
    "\n",
    "for i,(sample,_,label) in enumerate(sample_generator(test_clips,sample_duration,random=True,max_iters=n_tests,clip_filter=ks)):\n",
    "    X_test[i,:,:,:]=getdata_cnn(sample,params_cnn)\n",
    "    y_test[i,label2ind[label]]=1\n",
    "\n",
    "hyperparam_acc={}\n",
    "print(\"loaded data\")"
   ]
  },
  {
   "cell_type": "code",
   "execution_count": 212,
   "metadata": {},
   "outputs": [
    {
     "name": "stdout",
     "output_type": "stream",
     "text": [
      "Epoch 1/5\n",
      "500/500 [==============================] - 9s 18ms/step - loss: 1.5573 - accuracy: 0.9131 - val_loss: 0.1177 - val_accuracy: 0.9740\n",
      "Epoch 2/5\n",
      "500/500 [==============================] - 9s 18ms/step - loss: 0.1155 - accuracy: 0.9665 - val_loss: 0.1072 - val_accuracy: 0.9715\n",
      "Epoch 3/5\n",
      "500/500 [==============================] - 8s 16ms/step - loss: 0.0768 - accuracy: 0.9772 - val_loss: 0.0752 - val_accuracy: 0.9740\n",
      "Epoch 4/5\n",
      "500/500 [==============================] - 8s 16ms/step - loss: 0.0467 - accuracy: 0.9850 - val_loss: 0.0599 - val_accuracy: 0.9850\n",
      "Epoch 5/5\n",
      "500/500 [==============================] - 7s 15ms/step - loss: 0.0412 - accuracy: 0.9870 - val_loss: 0.0792 - val_accuracy: 0.9805\n",
      "1/1 [==============================] - 0s 896us/step - loss: 0.2173 - accuracy: 0.9055\n",
      "best so far!\n"
     ]
    }
   ],
   "source": [
    "# simple model \n",
    "\n",
    "# test hyperparameters\n",
    "batch_size = 16\n",
    "conv1=(16,(3,3),1)  # (num_filters, (filtersize), strides)\n",
    "conv2=(32,(3,3),1) \n",
    "dense=64\n",
    "hyperparams=(batch_size,conv1,dense)\n",
    "\n",
    "clf_cnns = Sequential()\n",
    "clf_cnns.add(Conv2D(conv1[0], kernel_size=conv1[1],\n",
    "                strides=conv1[2],input_shape=(width,height,1)))\n",
    "clf_cnns.add(Conv2D(conv2[0], kernel_size=conv2[1],\n",
    "                strides=conv2[2],input_shape=(width,height,1)))\n",
    "clf_cnns.add(Flatten())\n",
    "clf_cnns.add(Dense(dense, activation='relu'))\n",
    "clf_cnns.add(Dense(num_labels, activation='softmax'))\n",
    "\n",
    "clf_cnns.compile(loss=keras.losses.categorical_crossentropy,\n",
    "              optimizer='adam',\n",
    "              metrics=['accuracy'])\n",
    "\n",
    "clf_cnns.fit(X, y,\n",
    "          batch_size=batch_size,\n",
    "          epochs=5,\n",
    "          validation_split = 0.2)\n",
    "\n",
    "results = clf_cnns.evaluate(X_test, y_test, batch_size=n_tests)\n",
    "\n",
    "hyperparam_acc[hyperparams]=results[1]\n",
    "if results[1]==max(hyperparam_acc.values()):\n",
    "    print(\"best so far!\")"
   ]
  },
  {
   "cell_type": "code",
   "execution_count": 219,
   "metadata": {},
   "outputs": [
    {
     "name": "stdout",
     "output_type": "stream",
     "text": [
      "['cold', 'cold', 'hot', 'cold', 'cold', 'cold', 'cold', 'cold', 'hot', 'cold']\n"
     ]
    }
   ],
   "source": [
    "cnns_predictor=predictor(clf_cnns,getdata_cnn,params_cnn,sample_size_cnn,ohe=True)\n",
    "\n",
    "# pick 10 random 'cold' samples to test\n",
    "to_test=[sample for sample,_,_ in sample_generator(all_clips['cold'], sample_size_log_spec/default_sr, max_iters=10,random=True,clip_filter=ks)]\n",
    "\n",
    "print(cnns_predictor.test_samples(to_test))"
   ]
  },
  {
   "cell_type": "code",
   "execution_count": 221,
   "metadata": {},
   "outputs": [
    {
     "data": {
      "text/markdown": [
       "water is currently: <font color='red'>HOT</font>"
      ],
      "text/plain": [
       "<IPython.core.display.Markdown object>"
      ]
     },
     "metadata": {},
     "output_type": "display_data"
    }
   ],
   "source": [
    "cnns_predictor.continuous_record_and_test()"
   ]
  },
  {
   "cell_type": "code",
   "execution_count": 181,
   "metadata": {},
   "outputs": [
    {
     "name": "stdout",
     "output_type": "stream",
     "text": [
      "Epoch 1/10\n",
      "250/250 [==============================] - 6s 24ms/step - loss: 0.4028 - accuracy: 0.8940 - val_loss: 0.3590 - val_accuracy: 0.9605\n",
      "Epoch 2/10\n",
      "250/250 [==============================] - 6s 23ms/step - loss: 0.2334 - accuracy: 0.9826 - val_loss: 0.1968 - val_accuracy: 0.9810\n",
      "Epoch 3/10\n",
      "250/250 [==============================] - 6s 22ms/step - loss: 0.1703 - accuracy: 0.9872 - val_loss: 0.1434 - val_accuracy: 0.9890\n",
      "Epoch 4/10\n",
      "250/250 [==============================] - 6s 22ms/step - loss: 0.1321 - accuracy: 0.9891 - val_loss: 0.1080 - val_accuracy: 0.9935\n",
      "Epoch 5/10\n",
      "250/250 [==============================] - 6s 22ms/step - loss: 0.0995 - accuracy: 0.9923 - val_loss: 0.1025 - val_accuracy: 0.9835\n",
      "Epoch 6/10\n",
      "250/250 [==============================] - 6s 22ms/step - loss: 0.0748 - accuracy: 0.9959 - val_loss: 0.0648 - val_accuracy: 0.9970\n",
      "Epoch 7/10\n",
      "250/250 [==============================] - 6s 22ms/step - loss: 0.0605 - accuracy: 0.9960 - val_loss: 0.1340 - val_accuracy: 0.9590\n",
      "Epoch 8/10\n",
      "250/250 [==============================] - 6s 23ms/step - loss: 0.0472 - accuracy: 0.9980 - val_loss: 0.0417 - val_accuracy: 0.9980\n",
      "Epoch 9/10\n",
      "250/250 [==============================] - 6s 23ms/step - loss: 0.0403 - accuracy: 0.9977 - val_loss: 0.0438 - val_accuracy: 0.9945\n",
      "Epoch 10/10\n",
      "250/250 [==============================] - 6s 23ms/step - loss: 0.0602 - accuracy: 0.9890 - val_loss: 0.0306 - val_accuracy: 0.9985\n",
      "1/1 [==============================] - 0s 1ms/step - loss: 0.4272 - accuracy: 0.8410\n",
      "best so far!\n"
     ]
    }
   ],
   "source": [
    "# model inspired by YAMnet (https://github.com/tensorflow/models/tree/master/research/audioset/yamnet)\n",
    "\n",
    "# test hyperparameters\n",
    "batch_size = 32\n",
    "conv1=(32,(3,3),2)  # (num_filters, (filtersize), strides)\n",
    "conv2=(1,(3,3),1)\n",
    "conv3=(64,(3,3),1)\n",
    "dense=16\n",
    "hyperparams=(batch_size,conv1,conv2,conv3,dense)\n",
    "\n",
    "clf_cnn = Sequential()\n",
    "clf_cnn.add(Conv2D(conv1[0], kernel_size=conv1[1],\n",
    "                strides=conv1[2],input_shape=(width,height,1)))\n",
    "clf_cnn.add(BatchNormalization(center = True,scale= False, epsilon= 1e-4))\n",
    "clf_cnn.add(ReLU())\n",
    "clf_cnn.add(DepthwiseConv2D(depth_multiplier=conv2[0], kernel_size=conv2[1],\n",
    "                strides=conv2[2], padding='same',use_bias=False,activation=None))\n",
    "clf_cnn.add(BatchNormalization(center = True,scale= False, epsilon= 1e-4))\n",
    "clf_cnn.add(ReLU())\n",
    "clf_cnn.add(Conv2D(conv3[0], kernel_size=conv3[1],\n",
    "                strides=conv3[2],input_shape=(width,height,1)))\n",
    "clf_cnn.add(BatchNormalization(center = True,scale= False, epsilon= 1e-4))\n",
    "clf_cnn.add(ReLU())\n",
    "clf_cnn.add(Flatten())\n",
    "clf_cnn.add(Dense(dense, activation='relu'))\n",
    "clf_cnn.add(Dense(num_labels, activation='softmax'))\n",
    "\n",
    "clf_cnn.compile(loss=keras.losses.categorical_crossentropy,\n",
    "              optimizer='adam',\n",
    "              metrics=['accuracy'])\n",
    "\n",
    "clf_cnn.fit(X, y,\n",
    "          batch_size=batch_size,\n",
    "          epochs=10,\n",
    "          validation_split = 0.2)\n",
    "\n",
    "results = clf_cnn.evaluate(X_test, y_test, batch_size=n_tests)\n",
    "\n",
    "hyperparam_acc[hyperparams]=results[1]\n",
    "if results[1]==max(hyperparam_acc.values()):\n",
    "    print(\"best so far!\")"
   ]
  },
  {
   "cell_type": "code",
   "execution_count": 205,
   "metadata": {},
   "outputs": [
    {
     "name": "stdout",
     "output_type": "stream",
     "text": [
      "['hot', 'hot', 'hot', 'hot', 'hot', 'hot', 'hot', 'hot', 'hot', 'hot']\n"
     ]
    }
   ],
   "source": [
    "cnn_predictor=predictor(clf_cnn,getdata_cnn,params_cnn,sample_size_cnn,ohe=True)\n",
    "\n",
    "# pick 10 random 'cold' samples to test\n",
    "to_test=[sample for sample,_,_ in sample_generator(all_clips['hot'], sample_size_log_spec/default_sr, max_iters=10,random=True,clip_filter=ks)]\n",
    "\n",
    "print(cnn_predictor.test_samples(to_test))"
   ]
  },
  {
   "cell_type": "code",
   "execution_count": 209,
   "metadata": {},
   "outputs": [
    {
     "data": {
      "text/markdown": [
       "water is currently: <font color='blue'>COLD</font>"
      ],
      "text/plain": [
       "<IPython.core.display.Markdown object>"
      ]
     },
     "metadata": {},
     "output_type": "display_data"
    }
   ],
   "source": [
    "cnn_predictor.continuous_record_and_test()"
   ]
  },
  {
   "cell_type": "markdown",
   "metadata": {},
   "source": [
    "TO DO:\n",
    "    - transfer learning from YAMnet or other audio classification network\n",
    "    - try with more training data (quantity and variety)\n",
    "    - clean audio data somehow\n",
    "    - get continuous temperature rather than 'hot' vs 'cold'\n",
    "\n",
    "APPLICATIONS:\n",
    "    - just for fun!\n",
    "    - google home-type device to estimate temperature of tap water, give warning when very hot"
   ]
  },
  {
   "cell_type": "code",
   "execution_count": null,
   "metadata": {},
   "outputs": [],
   "source": []
  }
 ],
 "metadata": {
  "kernelspec": {
   "display_name": "Python 3",
   "language": "python",
   "name": "python3"
  },
  "language_info": {
   "codemirror_mode": {
    "name": "ipython",
    "version": 3
   },
   "file_extension": ".py",
   "mimetype": "text/x-python",
   "name": "python",
   "nbconvert_exporter": "python",
   "pygments_lexer": "ipython3",
   "version": "3.8.2"
  }
 },
 "nbformat": 4,
 "nbformat_minor": 4
}
