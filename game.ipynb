{
 "cells": [
  {
   "cell_type": "code",
   "execution_count": null,
   "metadata": {},
   "outputs": [],
   "source": [
    "%run 'init.py'\n",
    "all_clips=load_files()"
   ]
  },
  {
   "cell_type": "markdown",
   "metadata": {},
   "source": [
    "***\n",
    "<font size=\"6\">Guessing game</font>"
   ]
  },
  {
   "cell_type": "code",
   "execution_count": null,
   "metadata": {},
   "outputs": [],
   "source": [
    "def playGame():\n",
    "    n_turns=5\n",
    "    correct=0\n",
    "    sample_size=5\n",
    "    display_answer=True\n",
    "\n",
    "    for i in range(n_turns):\n",
    "        # play sample\n",
    "        label_ind=random.getrandbits(1)\n",
    "        sample,sr=generate_sample(sample_size,labels[label_ind])\n",
    "        display(Audio(sample, rate=sr))\n",
    "        done=False\n",
    "        while not done:\n",
    "            guess = input(\"Enter 'h' for hot or 'c' for cold: \") \n",
    "            if guess=='h':\n",
    "                guess_ind=1\n",
    "                done=True\n",
    "            elif guess=='c':\n",
    "                guess_ind=0\n",
    "                done=True\n",
    "            else:\n",
    "                print(\"invalid input, try again\")\n",
    "        if guess_ind==label_ind:\n",
    "            if display_answer:\n",
    "                print(\"good job!\")\n",
    "            correct+=1\n",
    "        else:\n",
    "            if display_answer:\n",
    "                print(\"bad job!\")\n",
    "\n",
    "    print(\"got {} out of {}!\".format(correct,n_turns))\n",
    "    \n",
    "playGame()"
   ]
  }
 ],
 "metadata": {
  "kernelspec": {
   "display_name": "Python 3",
   "language": "python",
   "name": "python3"
  },
  "language_info": {
   "codemirror_mode": {
    "name": "ipython",
    "version": 3
   },
   "file_extension": ".py",
   "mimetype": "text/x-python",
   "name": "python",
   "nbconvert_exporter": "python",
   "pygments_lexer": "ipython3",
   "version": "3.8.2"
  }
 },
 "nbformat": 4,
 "nbformat_minor": 4
}
