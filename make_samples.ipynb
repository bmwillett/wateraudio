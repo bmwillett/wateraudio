{
 "cells": [
  {
   "cell_type": "code",
   "execution_count": null,
   "metadata": {},
   "outputs": [],
   "source": [
    "%run 'init.py'"
   ]
  },
  {
   "cell_type": "code",
   "execution_count": 26,
   "metadata": {},
   "outputs": [],
   "source": [
    "# records samples and writes to test or train folders as new data\n",
    "\n",
    "def get_new_data(duration,filename,kind,label,sr=default_sr):\n",
    "    recording=get_new_audio(duration)\n",
    "    wavfile.write('./'+kind+'/'+label+'/'+label+'_'+filename+'.wav',sr,recording)"
   ]
  },
  {
   "cell_type": "code",
   "execution_count": 27,
   "metadata": {},
   "outputs": [],
   "source": [
    "# generate new samples\n",
    "for i in range(1,11):\n",
    "    filename='bathroomsink'+str(i)\n",
    "    get_new_data(30,filename,'train','cold')\n",
    "    print(\"added \"+filename)\n",
    "for i in range(1,5):\n",
    "    filename='bathroomsink'+str(i)\n",
    "    get_new_data(30,filename,'test','cold')\n",
    "    print(\"added \"+filename)\n",
    "input()\n",
    "for i in range(1,11):\n",
    "    filename='bathroomsink'+str(i)\n",
    "    get_new_data(30,filename,'train','hot')\n",
    "    print(\"added \"+filename)\n",
    "for i in range(1,5):\n",
    "    filename='bathroomsink'+str(i)\n",
    "    get_new_data(30,filename,'test','hot')\n",
    "    print(\"added \"+filename)"
   ]
  }
 ],
 "metadata": {
  "kernelspec": {
   "display_name": "Python 3",
   "language": "python",
   "name": "python3"
  },
  "language_info": {
   "codemirror_mode": {
    "name": "ipython",
    "version": 3
   },
   "file_extension": ".py",
   "mimetype": "text/x-python",
   "name": "python",
   "nbconvert_exporter": "python",
   "pygments_lexer": "ipython3",
   "version": "3.8.2"
  }
 },
 "nbformat": 4,
 "nbformat_minor": 4
}
